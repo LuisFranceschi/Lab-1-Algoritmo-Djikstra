{
 "cells": [
  {
   "cell_type": "markdown",
   "metadata": {},
   "source": [
    "# Logica detras del dijkstra\n",
    "\n",
    "para no complicarnos haremos una tabla en csv que contendra las coordenadas de cada punto\n",
    "\n",
    "nombre de punto, coordenada\n",
    "\n",
    "- primero se carga la tabla\n",
    "\n",
    "- despues preguntamos la trayectoria, punto inicial a punto final\n",
    "\n",
    "- hacemos iteracion en arbol, desde el punto inicial hasta el punto final, gualdando siempre la menor distancia (o menor hipotenusa)\n",
    "\n",
    "- finalmente haremos una iteracion reversa, para obtener la ruta mas corta\n",
    "\n",
    "para sacar la distancia usamos la siguiente formula.\n",
    "\n",
    "distancia = sqrt((x1-x2)^2 + (y1-y2)^2)"
   ]
  },
  {
   "cell_type": "code",
   "execution_count": 295,
   "metadata": {},
   "outputs": [],
   "source": [
    "import numpy as np\n",
    "import pandas as pd\n",
    "import matplotlib.pyplot as plt\n",
    "%matplotlib inline"
   ]
  },
  {
   "cell_type": "markdown",
   "metadata": {},
   "source": [
    "# Funciones"
   ]
  },
  {
   "cell_type": "code",
   "execution_count": 296,
   "metadata": {},
   "outputs": [],
   "source": [
    "def getData(file):\n",
    "    data = pd.read_csv(file)\n",
    "    npdata = data.to_numpy()\n",
    "    paths = []\n",
    "    for path in npdata[:, 3]:\n",
    "        paths.append(path.split(','))\n",
    "    return npdata, paths"
   ]
  },
  {
   "cell_type": "code",
   "execution_count": 297,
   "metadata": {},
   "outputs": [],
   "source": [
    "def getDistance(a, b):\n",
    "    distance = np.sqrt((a[0]-b[0])**2 + (a[1]-b[1])**2)\n",
    "    return distance"
   ]
  },
  {
   "cell_type": "code",
   "execution_count": 298,
   "metadata": {},
   "outputs": [],
   "source": [
    "def plotDots(dots):\n",
    "    plt.clf()\n",
    "    plt.scatter(dots[:,1],dots[:,2])\n",
    "    #plt.plot(dots[1:3,1],dots[1:3,2])\n",
    "    for label, x, y in zip(dots[:,0], dots[:,1], dots[:,2]):\n",
    "        plt.annotate(label,\n",
    "                 (x,y),\n",
    "                 textcoords=\"offset points\",\n",
    "                 xytext=(0,10),\n",
    "                 ha=\"center\")\n",
    "                 "
   ]
  },
  {
   "cell_type": "code",
   "execution_count": 299,
   "metadata": {},
   "outputs": [],
   "source": [
    "def plotDefRoute(dots, paths):\n",
    "    plt.clf()\n",
    "    plt.scatter(dots[:,1],dots[:,2])\n",
    "    for idx, path in enumerate(paths):\n",
    "        for line in path:\n",
    "            x = [dots[idx, 1]]\n",
    "            y = [dots[idx, 2]]\n",
    "            for lidx, letter in enumerate(dots[:, 0]):\n",
    "#                 print(letter, line)\n",
    "                if letter == line:\n",
    "                    x.append(dots[lidx, 1])\n",
    "                    y.append(dots[lidx, 2])\n",
    "#             print(x, y)\n",
    "            plt.plot(x, y)\n",
    "    for label, x, y in zip(dots[:,0], dots[:,1], dots[:,2]):\n",
    "        plt.annotate(label,\n",
    "                 (x,y),\n",
    "                 textcoords=\"offset points\",\n",
    "                 xytext=(10,10),\n",
    "                 ha=\"center\")\n",
    "                 "
   ]
  },
  {
   "cell_type": "code",
   "execution_count": 300,
   "metadata": {},
   "outputs": [],
   "source": [
    "def plotRoute(dots, paths):\n",
    "    plt.clf()\n",
    "    plt.scatter(dots[:,1],dots[:,2])\n",
    "    for idx, path in enumerate(paths):\n",
    "        x = [dots[path[0], 1]]\n",
    "        y = [dots[path[0], 2]]\n",
    "        x.append(dots[path[1], 1])\n",
    "        y.append(dots[path[1], 2])\n",
    "        plt.plot(x, y)\n",
    "        \n",
    "    for label, x, y in zip(dots[:,0], dots[:,1], dots[:,2]):\n",
    "        plt.annotate(label,\n",
    "                 (x,y),\n",
    "                 textcoords=\"offset points\",\n",
    "                 xytext=(10,10),\n",
    "                 ha=\"center\")\n",
    "                 "
   ]
  },
  {
   "cell_type": "code",
   "execution_count": 301,
   "metadata": {},
   "outputs": [],
   "source": [
    "def getDotIdx(dots, letter):\n",
    "    letterIdx = dots[:,0] == letter\n",
    "    for idx, lbool in enumerate(letterIdx):\n",
    "        if lbool:\n",
    "            return idx"
   ]
  },
  {
   "cell_type": "markdown",
   "metadata": {},
   "source": [
    "# Logica detras de las iteraciones\n",
    "- 1ra iteracion, iteracion de conseguir distancias\n",
    "- 2da iteracion, suma de distancia segun ruta y niveles\n",
    "- 3ra iteracion, iteracion en reversa"
   ]
  },
  {
   "cell_type": "code",
   "execution_count": 302,
   "metadata": {},
   "outputs": [],
   "source": [
    "def dijkstra(dots, a, b):\n",
    "    \n",
    "    inTarget = False\n",
    "    froute = np.array([])\n",
    "    visited = np.array([])\n",
    "    neighbors = np.array([])\n",
    "    distances = np.array([])\n",
    "    start = getDotIdx(dots, a)\n",
    "    \n",
    "    pdots = [start]\n",
    "    # neighbours = dots[getDotIdx(dots, a), 3].split(',')\n",
    "    \n",
    "    while not inTarget:\n",
    "        apdots = np.array([])\n",
    "        for pdot in np.intc(pdots):\n",
    "            neighbors = dots[pdot, 3].split(',')\n",
    "            for ndot in neighbors:\n",
    "                ndotid = getDotIdx(dots, ndot)\n",
    "                try:\n",
    "#                     print('try')\n",
    "#                     if ((pdot not in visited[:, 0] and ndotid not in visited[:, 1]) and (pdot not in visited[:, 1] and ndotid not in visited[:, 0])):\n",
    "                    visited = np.append(visited, [[pdot, ndotid]], axis=0)\n",
    "                    distances = np.append(distances, [[pdot, ndotid, getDistance(dots[pdot, 1:], dots[ndotid, 1:])]], axis=0)\n",
    "                except:\n",
    "#                     print('except')\n",
    "#                     print(distances)\n",
    "                    if distances.size == 0:\n",
    "                        distances = np.array([[pdot, ndotid, getDistance(dots[pdot, 1:], dots[ndotid, 1:])]])\n",
    "                    else:\n",
    "                        distances = np.append(distances, [[pdot, ndotid, getDistance(dots[pdot, 1:], dots[ndotid, 1:])]], axis=0)\n",
    "                        \n",
    "                    if visited.size == 0:\n",
    "                        visited = np.array([[pdot, ndotid]])\n",
    "#                         print(visited)\n",
    "                    else:\n",
    "#                         print(visited)\n",
    "                        visited = np.append(visited, [[pdot, ndotid]], axis=0)\n",
    "#                         print(visited)\n",
    "                \n",
    "#                 print(distances)\n",
    "                \n",
    "                try:\n",
    "#                     print('try pdot ' + str(pdot))\n",
    "                    if ndotid in froute[:, 0] and pdot in froute[:, 0]:\n",
    "                        if(froute[np.where(froute[:, 0] == ndotid)[0][0], 1] > (froute[np.where(froute[:, 0] == pdot)[0][0], 1] + distances[-1, -1])):\n",
    "                            froute[np.where(froute[:, 0] == ndotid)[0][0], 1] = froute[np.where(froute[:, 0] == pdot)[0][0], 1] + distances[-1, -1]\n",
    "                            froute[np.where(froute[:, 0] == ndotid)[0][0], 2] = np.append(froute[np.where(froute[:, 0] == pdot)[0][0], 2][:-1], ndotid)\n",
    "                    elif ndotid not in froute[:, 0] and pdot in froute[:, 0]:\n",
    "                        froute = np.append(froute, [[ndotid, froute[np.where(froute[:, 0] == pdot)[0][0], 1] + distances[-1, -1], np.append(froute[np.where(froute[:, 0] == pdot)[0][0], 2], ndotid)]],  axis=0)\n",
    "                    else:\n",
    "                        try:\n",
    "                            if froute.size == 0:\n",
    "                                froute = np.array([[ndotid, distances[-1, -1], [[start, ndotid]]]], dtype='object')\n",
    "                            else:\n",
    "                                froute = np.append(froute, [[ndotid, distances[-1, -1], [[start, ndotid]]]], axis=0)\n",
    "                        except:\n",
    "                            if froute.size == 0:\n",
    "                                froute = np.array([[ndotid, distances[-1], [[start, ndotid]]]], dtype='object')\n",
    "                            else:\n",
    "                                froute = np.append(froute, [[ndotid, distances[-1], [[start, ndotid]]]], axis=0)\n",
    "                except Exception as e:\n",
    "                    try:\n",
    "                        if froute.size == 0:\n",
    "                            froute = np.array([[ndotid, distances[-1, -1], [[start, ndotid]]]], dtype='object')\n",
    "                        else:\n",
    "                            froute = np.append(froute, [[ndotid, distances[-1, -1], [[start, ndotid]]]], axis=0)\n",
    "                    except:\n",
    "                        if froute.size == 0:\n",
    "                            froute = np.array([[ndotid, distances[-1], [[ndotid]]]], dtype='object')\n",
    "                        else:\n",
    "                            froute = np.append(froute, [[ndotid, distances[-1], [[start, ndotid]]]], axis=0)\n",
    "                \n",
    "                apdots = np.append(apdots, [ndotid])\n",
    "            if getDotIdx(dots, b) == pdot:\n",
    "                inTarget = True;\n",
    "                break\n",
    "        \n",
    "            pdots = apdots\n",
    "#             print('pdots: ' + str(pdots))\n",
    "            \n",
    "#     print('Distances')\n",
    "#     print(distances)\n",
    "#     print('Visited')\n",
    "#     print(visited)\n",
    "#     print('Routes')\n",
    "#     print(froute)\n",
    "    return(froute[np.where(froute[:, 0] == getDotIdx(dots, b))])"
   ]
  },
  {
   "cell_type": "code",
   "execution_count": 303,
   "metadata": {},
   "outputs": [],
   "source": [
    "def showRoute(dots, route):\n",
    "    path = []\n",
    "    for idx, dot in enumerate(route[:-1]):\n",
    "#         print(dot)\n",
    "#         path.append([dots[dot, 0], dots[route[idx+1], 0]])\n",
    "        path.append([dot, route[idx+1]])\n",
    "    \n",
    "#     print(path)\n",
    "    plotRoute(dots, path)\n",
    "    plt.show()"
   ]
  },
  {
   "cell_type": "markdown",
   "metadata": {},
   "source": [
    "# Ejecucion"
   ]
  },
  {
   "cell_type": "code",
   "execution_count": 304,
   "metadata": {},
   "outputs": [],
   "source": [
    "file = \"Coordenadas.csv\"\n",
    "dots, paths = getData(file)\n",
    "# print(dots)\n",
    "# print(paths)"
   ]
  },
  {
   "cell_type": "code",
   "execution_count": 306,
   "metadata": {},
   "outputs": [
    {
     "data": {
      "image/png": "[encoded data removed]",
      "text/plain": [
       "<Figure size 432x288 with 1 Axes>"
      ]
     },
     "metadata": {
      "needs_background": "light"
     },
     "output_type": "display_data"
    }
   ],
   "source": [
    "plotDots(dots)\n",
    "plt.show()"
   ]
  },
  {
   "cell_type": "code",
   "execution_count": 307,
   "metadata": {},
   "outputs": [
    {
     "data": {
      "image/png": "[encoded data removed]",
      "text/plain": [
       "<Figure size 432x288 with 1 Axes>"
      ]
     },
     "metadata": {
      "needs_background": "light"
     },
     "output_type": "display_data"
    }
   ],
   "source": [
    "plotDefRoute(dots,paths)\n",
    "plt.show()"
   ]
  },
  {
   "cell_type": "code",
   "execution_count": 315,
   "metadata": {},
   "outputs": [],
   "source": [
    "result = dijkstra(dots, 'A', 'G')"
   ]
  },
  {
   "cell_type": "code",
   "execution_count": 316,
   "metadata": {},
   "outputs": [
    {
     "data": {
      "image/png": "[encoded data removed]",
      "text/plain": [
       "<Figure size 432x288 with 1 Axes>"
      ]
     },
     "metadata": {
      "needs_background": "light"
     },
     "output_type": "display_data"
    }
   ],
   "source": [
    "# print(result[0, 2])\n",
    "showRoute(dots, result[0, 2])"
   ]
  }
 ],
 "metadata": {
  "kernelspec": {
   "display_name": "Python 3",
   "language": "python",
   "name": "python3"
  },
  "language_info": {
   "codemirror_mode": {
    "name": "ipython",
    "version": 3
   },
   "file_extension": ".py",
   "mimetype": "text/x-python",
   "name": "python",
   "nbconvert_exporter": "python",
   "pygments_lexer": "ipython3",
   "version": "3.8.5"
  }
 },
 "nbformat": 4,
 "nbformat_minor": 4
}
